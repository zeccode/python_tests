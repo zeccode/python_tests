{
  "nbformat": 4,
  "nbformat_minor": 0,
  "metadata": {
    "colab": {
      "provenance": []
    },
    "kernelspec": {
      "name": "python3",
      "display_name": "Python 3"
    },
    "language_info": {
      "name": "python"
    }
  },
  "cells": [
    {
      "cell_type": "code",
      "source": [
        "from collections.abc import ValuesView\n",
        "import pandas as pd\n",
        "from sklearn import linear_model\n",
        "\n",
        "dados = pd.read_csv(\"https://raw.githubusercontent.com/profmailson/2024-AM/refs/heads/main/ExemploCasa.csv\", sep=\";\")\n",
        "\n",
        "dados.head()\n",
        "\n",
        "x = dados.iloc[:, [0]].values\n",
        "y = dados.iloc[:, [1]].values\n",
        "\n",
        "\n",
        "modelo = linear_model.LinearRegression()\n",
        "modelo.fit(x,y)\n",
        "\n",
        "a = modelo.intercept_\n",
        "b = modelo.coef_\n",
        "r = a + b * 110\n",
        "print('resposta: ', r)"
      ],
      "metadata": {
        "colab": {
          "base_uri": "https://localhost:8080/"
        },
        "id": "Q0RKfHrMoRJY",
        "outputId": "5a4945cc-4dad-4169-b77e-bc353f28a6c9"
      },
      "execution_count": 3,
      "outputs": [
        {
          "output_type": "stream",
          "name": "stdout",
          "text": [
            "resposta:  [[468.29268293]]\n"
          ]
        }
      ]
    }
  ]
}